{
  "nbformat": 4,
  "nbformat_minor": 0,
  "metadata": {
    "kernelspec": {
      "display_name": "Python 3",
      "language": "python",
      "name": "python3"
    },
    "language_info": {
      "codemirror_mode": {
        "name": "ipython",
        "version": 3
      },
      "file_extension": ".py",
      "mimetype": "text/x-python",
      "name": "python",
      "nbconvert_exporter": "python",
      "pygments_lexer": "ipython3",
      "version": "3.6.9"
    },
    "colab": {
      "name": "compsci682_extra_session_1_090320.ipynb",
      "provenance": [],
      "collapsed_sections": []
    }
  },
  "cells": [
    {
      "cell_type": "markdown",
      "metadata": {
        "id": "z8E-0NhVr6F-",
        "colab_type": "text"
      },
      "source": [
        "# COMPSCI682 Help Session 1: Slicing and Broadcasting in Python\n",
        "\n",
        "## 1. Python List and Numpy Array (ndarray)\n",
        "\n",
        "### 1.1 List\n",
        "- List is a collection of items. The items in a List can be numbers, strings, list, Numpy Array, etc. "
      ]
    },
    {
      "cell_type": "code",
      "metadata": {
        "id": "l6mPWRpqr6GA",
        "colab_type": "code",
        "colab": {
          "base_uri": "https://localhost:8080/",
          "height": 34
        },
        "outputId": "ad1bb576-9f03-4132-e07a-0c524a80bdff"
      },
      "source": [
        "my_list = [1, '2', [3]]\n",
        "my_list += [4.01]\n",
        "print('my_list:', my_list)"
      ],
      "execution_count": 1,
      "outputs": [
        {
          "output_type": "stream",
          "text": [
            "my_list: [1, '2', [3], 4.01]\n"
          ],
          "name": "stdout"
        }
      ]
    },
    {
      "cell_type": "code",
      "metadata": {
        "id": "cB_63CrEr6GE",
        "colab_type": "code",
        "colab": {
          "base_uri": "https://localhost:8080/",
          "height": 34
        },
        "outputId": "18f5a262-0aeb-44f0-f4a9-eaa432dfbf47"
      },
      "source": [
        "my_list.append(4)\n",
        "print('my_list:', my_list)"
      ],
      "execution_count": 2,
      "outputs": [
        {
          "output_type": "stream",
          "text": [
            "my_list: [1, '2', [3], 4.01, 4]\n"
          ],
          "name": "stdout"
        }
      ]
    },
    {
      "cell_type": "code",
      "metadata": {
        "id": "MKAOIHpwr6GG",
        "colab_type": "code",
        "colab": {
          "base_uri": "https://localhost:8080/",
          "height": 34
        },
        "outputId": "0e952475-0a79-4fc0-8f3e-485601b6f55d"
      },
      "source": [
        "my_list.append([5,6])\n",
        "my_list += [7,8,9]\n",
        "print('my_list:', my_list)"
      ],
      "execution_count": 3,
      "outputs": [
        {
          "output_type": "stream",
          "text": [
            "my_list: [1, '2', [3], 4.01, 4, [5, 6], 7, 8, 9]\n"
          ],
          "name": "stdout"
        }
      ]
    },
    {
      "cell_type": "markdown",
      "metadata": {
        "id": "z5qFPchYr6GJ",
        "colab_type": "text"
      },
      "source": [
        "- When the items in a List are all from the same data type, we can do math to the List. "
      ]
    },
    {
      "cell_type": "code",
      "metadata": {
        "id": "ZWAGEcXvr6GJ",
        "colab_type": "code",
        "colab": {
          "base_uri": "https://localhost:8080/",
          "height": 34
        },
        "outputId": "c40181a3-c52f-468f-ceac-c55b879f0885"
      },
      "source": [
        "l1 = [0, 2, 3, 4]\n",
        "s_l1 = [x**2 for x in l1]\n",
        "print('s_l1:', s_l1)\n",
        "\n",
        "# s_l1_long = []\n",
        "# for i in range(0,len(l1)):\n",
        "#     s_l1_long += [l1[i]**2]\n",
        "# print('s_l1_long:', s_l1_long)"
      ],
      "execution_count": 4,
      "outputs": [
        {
          "output_type": "stream",
          "text": [
            "s_l1: [0, 4, 9, 16]\n"
          ],
          "name": "stdout"
        }
      ]
    },
    {
      "cell_type": "code",
      "metadata": {
        "scrolled": true,
        "id": "FVo_G9Fhr6GM",
        "colab_type": "code",
        "colab": {
          "base_uri": "https://localhost:8080/",
          "height": 34
        },
        "outputId": "443bcda1-8fa1-4083-8adf-c1c0672d9a84"
      },
      "source": [
        "l1 = [0, 1, 2, 3, 4]\n",
        "s_l1 = [x**2 for x in l1 if x % 2 == 0]\n",
        "print('s_l1:', s_l1)\n",
        "\n",
        "# s_l1_long = []\n",
        "# for i in range(0,len(l1)):\n",
        "#     if l1[i] % 2 == 0:\n",
        "#         s_l1_long += [l1[i]**2]\n",
        "# print('s_l1_long:', s_l1_long)"
      ],
      "execution_count": 5,
      "outputs": [
        {
          "output_type": "stream",
          "text": [
            "s_l1: [0, 4, 16]\n"
          ],
          "name": "stdout"
        }
      ]
    },
    {
      "cell_type": "markdown",
      "metadata": {
        "id": "sSlqCCfTr6GO",
        "colab_type": "text"
      },
      "source": [
        "### 1.2 NumPy Array\n",
        "\n",
        "Numpy arrays are usually used to represent vectors and multidimensional arrays and it is optimized to perform various operations.\n",
        "\n",
        "Advantage of Numpy Arrays over lists\n",
        "\n",
        "**Size** - Numpy data structures take up less space\n",
        "\n",
        "**Performance** - they have a need for speed and are faster than lists\n",
        "\n",
        "**Functionality** - NumPy have optimized \n",
        "functions such as linear algebra operations built in."
      ]
    },
    {
      "cell_type": "code",
      "metadata": {
        "id": "f4DcUckCr6GP",
        "colab_type": "code",
        "colab": {}
      },
      "source": [
        "import numpy as np\n"
      ],
      "execution_count": 6,
      "outputs": []
    },
    {
      "cell_type": "markdown",
      "metadata": {
        "id": "bloWuNvur6GR",
        "colab_type": "text"
      },
      "source": [
        "### 1.3 len, size, shape, indexing\n",
        "#### 1.3.1 Lists can be used to represent arrays. In the example below, we have a list representing an array of size 2x4\n",
        "\n",
        "#### 1.3.2 For the purpose of indexing lists representing multi-dimensional arrays we may need multiple square brackets depending on the specificity of access.\n",
        "\n",
        "\n",
        "\n"
      ]
    },
    {
      "cell_type": "code",
      "metadata": {
        "id": "HZXcdvxgr6GS",
        "colab_type": "code",
        "colab": {}
      },
      "source": [
        "l = [[0, 1, 2, 3], [4, 5, 6, 7]]"
      ],
      "execution_count": 7,
      "outputs": []
    },
    {
      "cell_type": "code",
      "metadata": {
        "id": "-pWFT8-sr6GV",
        "colab_type": "code",
        "colab": {
          "base_uri": "https://localhost:8080/",
          "height": 34
        },
        "outputId": "7bc8b910-57d5-4a15-8989-4751483cf204"
      },
      "source": [
        "print(l[1])"
      ],
      "execution_count": 8,
      "outputs": [
        {
          "output_type": "stream",
          "text": [
            "[4, 5, 6, 7]\n"
          ],
          "name": "stdout"
        }
      ]
    },
    {
      "cell_type": "code",
      "metadata": {
        "id": "xVa7j_per6GX",
        "colab_type": "code",
        "colab": {
          "base_uri": "https://localhost:8080/",
          "height": 34
        },
        "outputId": "89b9856e-709c-413d-e055-96ef6da9b580"
      },
      "source": [
        "print(l[1][2])"
      ],
      "execution_count": 9,
      "outputs": [
        {
          "output_type": "stream",
          "text": [
            "6\n"
          ],
          "name": "stdout"
        }
      ]
    },
    {
      "cell_type": "code",
      "metadata": {
        "id": "Y-D_odAWr6Ga",
        "colab_type": "code",
        "colab": {
          "base_uri": "https://localhost:8080/",
          "height": 164
        },
        "outputId": "da8a3e43-d6c2-43f5-d960-fdd27ce0e66e"
      },
      "source": [
        "print(l[1, 2]) #TypeError - Numpy is compatible with this kind of indexing"
      ],
      "execution_count": 10,
      "outputs": [
        {
          "output_type": "error",
          "ename": "TypeError",
          "evalue": "ignored",
          "traceback": [
            "\u001b[0;31m---------------------------------------------------------------------------\u001b[0m",
            "\u001b[0;31mTypeError\u001b[0m                                 Traceback (most recent call last)",
            "\u001b[0;32m<ipython-input-10-ad4bff942257>\u001b[0m in \u001b[0;36m<module>\u001b[0;34m()\u001b[0m\n\u001b[0;32m----> 1\u001b[0;31m \u001b[0mprint\u001b[0m\u001b[0;34m(\u001b[0m\u001b[0ml\u001b[0m\u001b[0;34m[\u001b[0m\u001b[0;36m1\u001b[0m\u001b[0;34m,\u001b[0m \u001b[0;36m2\u001b[0m\u001b[0;34m]\u001b[0m\u001b[0;34m)\u001b[0m \u001b[0;31m#TypeError - Numpy is compatible with this kind of indexing\u001b[0m\u001b[0;34m\u001b[0m\u001b[0;34m\u001b[0m\u001b[0m\n\u001b[0m",
            "\u001b[0;31mTypeError\u001b[0m: list indices must be integers or slices, not tuple"
          ]
        }
      ]
    },
    {
      "cell_type": "code",
      "metadata": {
        "id": "oM_JqUz68S8I",
        "colab_type": "code",
        "colab": {}
      },
      "source": [
        "len(l)\n",
        "l.size  #Error\n",
        "l.shape #Error"
      ],
      "execution_count": null,
      "outputs": []
    },
    {
      "cell_type": "markdown",
      "metadata": {
        "id": "Yp14noRar6Ge",
        "colab_type": "text"
      },
      "source": [
        "#### 1.3.2 Numpy Array"
      ]
    },
    {
      "cell_type": "code",
      "metadata": {
        "id": "6x2XRD-Lr6Gf",
        "colab_type": "code",
        "colab": {}
      },
      "source": [
        "a = np.arange(8).reshape((2,4))"
      ],
      "execution_count": 11,
      "outputs": []
    },
    {
      "cell_type": "code",
      "metadata": {
        "id": "F8DTgL9Zr6Gh",
        "colab_type": "code",
        "colab": {
          "base_uri": "https://localhost:8080/",
          "height": 51
        },
        "outputId": "fad6b5bf-a90d-4fbd-f2aa-20d02e41e127"
      },
      "source": [
        "print(a[1])\n",
        "print(type(a[1]))"
      ],
      "execution_count": 12,
      "outputs": [
        {
          "output_type": "stream",
          "text": [
            "[4 5 6 7]\n",
            "<class 'numpy.ndarray'>\n"
          ],
          "name": "stdout"
        }
      ]
    },
    {
      "cell_type": "code",
      "metadata": {
        "id": "o-n7bMyHr6Gj",
        "colab_type": "code",
        "colab": {
          "base_uri": "https://localhost:8080/",
          "height": 51
        },
        "outputId": "ab6dc05e-14a2-4702-c486-3902d21246bc"
      },
      "source": [
        "print(a[1][2])\n",
        "print(a[1, 2])"
      ],
      "execution_count": 13,
      "outputs": [
        {
          "output_type": "stream",
          "text": [
            "6\n",
            "6\n"
          ],
          "name": "stdout"
        }
      ]
    },
    {
      "cell_type": "code",
      "metadata": {
        "id": "bbFFH6MYr6Gn",
        "colab_type": "code",
        "colab": {
          "base_uri": "https://localhost:8080/",
          "height": 68
        },
        "outputId": "8579afa0-6b57-4d32-b656-aad9ec90d24b"
      },
      "source": [
        "print('len(a) = ', len(a))\n",
        "print('a.size = ', a.size)\n",
        "print('a.shape = ', a.shape)"
      ],
      "execution_count": 14,
      "outputs": [
        {
          "output_type": "stream",
          "text": [
            "len(a) =  2\n",
            "a.size =  8\n",
            "a.shape =  (2, 4)\n"
          ],
          "name": "stdout"
        }
      ]
    },
    {
      "cell_type": "markdown",
      "metadata": {
        "id": "AGi5HnWfr6Gp",
        "colab_type": "text"
      },
      "source": [
        "### 1.4 Transfer between List and Numpy Array\n",
        "\n",
        "#### 1.4.1 List --> Numpy Array"
      ]
    },
    {
      "cell_type": "code",
      "metadata": {
        "id": "7OvlhWA7r6Gp",
        "colab_type": "code",
        "colab": {
          "base_uri": "https://localhost:8080/",
          "height": 102
        },
        "outputId": "473e2909-a640-4be2-cec1-0a4d5a76ad9e"
      },
      "source": [
        "l = [[0, 1, 2, 3], [4, 5, 6, 7]]\n",
        "print(l)\n",
        "print(type(l))\n",
        "a = np.array(l)\n",
        "print(a)\n",
        "print(type(a))"
      ],
      "execution_count": 15,
      "outputs": [
        {
          "output_type": "stream",
          "text": [
            "[[0, 1, 2, 3], [4, 5, 6, 7]]\n",
            "<class 'list'>\n",
            "[[0 1 2 3]\n",
            " [4 5 6 7]]\n",
            "<class 'numpy.ndarray'>\n"
          ],
          "name": "stdout"
        }
      ]
    },
    {
      "cell_type": "code",
      "metadata": {
        "id": "2KfHW3Wyr6Gr",
        "colab_type": "code",
        "colab": {
          "base_uri": "https://localhost:8080/",
          "height": 68
        },
        "outputId": "c7327233-5660-479f-e9f4-9909183b826c"
      },
      "source": [
        "l = [[0, 1, 2, 3], [4, 5, 6, 7]]\n",
        "a1 = np.asarray(l) \n",
        "print(a1)\n",
        "print(type(a1))"
      ],
      "execution_count": 16,
      "outputs": [
        {
          "output_type": "stream",
          "text": [
            "[[0 1 2 3]\n",
            " [4 5 6 7]]\n",
            "<class 'numpy.ndarray'>\n"
          ],
          "name": "stdout"
        }
      ]
    },
    {
      "cell_type": "markdown",
      "metadata": {
        "id": "2NV6u4zer6Gu",
        "colab_type": "text"
      },
      "source": [
        "#### 1.4.2 Numpy Array --> List"
      ]
    },
    {
      "cell_type": "code",
      "metadata": {
        "id": "wRg1_GCZr6Gu",
        "colab_type": "code",
        "colab": {
          "base_uri": "https://localhost:8080/",
          "height": 119
        },
        "outputId": "004401cb-456a-49b3-9f11-fcaabecc6595"
      },
      "source": [
        "l = [[[0, 1, 2, 3],[2,3,4,5]], [[4, 5, 6, 7],[2,3,4,5]]]\n",
        "a = np.array(l)\n",
        "l1 = list(a)\n",
        "print(type(l1))\n",
        "print(l1)\n",
        "\n",
        "l = [[0, 1, 2, 3], [4, 5, 6, 7]]\n",
        "a = np.array(l)\n",
        "l1 = list(a)\n",
        "print(type(l1))\n",
        "print(l1)"
      ],
      "execution_count": 17,
      "outputs": [
        {
          "output_type": "stream",
          "text": [
            "<class 'list'>\n",
            "[array([[0, 1, 2, 3],\n",
            "       [2, 3, 4, 5]]), array([[4, 5, 6, 7],\n",
            "       [2, 3, 4, 5]])]\n",
            "<class 'list'>\n",
            "[array([0, 1, 2, 3]), array([4, 5, 6, 7])]\n"
          ],
          "name": "stdout"
        }
      ]
    },
    {
      "cell_type": "code",
      "metadata": {
        "id": "uX8U4ZEHr6Gw",
        "colab_type": "code",
        "colab": {
          "base_uri": "https://localhost:8080/",
          "height": 34
        },
        "outputId": "e701b8dc-1631-44e0-9c9b-09cb96c54f53"
      },
      "source": [
        "print(type(l1[0]))"
      ],
      "execution_count": 18,
      "outputs": [
        {
          "output_type": "stream",
          "text": [
            "<class 'numpy.ndarray'>\n"
          ],
          "name": "stdout"
        }
      ]
    },
    {
      "cell_type": "markdown",
      "metadata": {
        "id": "HAw6whyTr6Gy",
        "colab_type": "text"
      },
      "source": [
        "- We should use tolist() instead."
      ]
    },
    {
      "cell_type": "code",
      "metadata": {
        "id": "SlrutH10r6Gz",
        "colab_type": "code",
        "colab": {
          "base_uri": "https://localhost:8080/",
          "height": 51
        },
        "outputId": "992716ae-ed95-4f18-af1d-c293bea485e6"
      },
      "source": [
        "l2 = a.tolist()\n",
        "print(type(l2))\n",
        "print(l2)"
      ],
      "execution_count": 19,
      "outputs": [
        {
          "output_type": "stream",
          "text": [
            "<class 'list'>\n",
            "[[0, 1, 2, 3], [4, 5, 6, 7]]\n"
          ],
          "name": "stdout"
        }
      ]
    },
    {
      "cell_type": "markdown",
      "metadata": {
        "id": "LCXOt9ckr6G1",
        "colab_type": "text"
      },
      "source": [
        "## 2. Slicing\n",
        "- The slice() creates a slice object representing the set of indices specified by range.\n",
        "\n",
        "### 2.1 Basic usage"
      ]
    },
    {
      "cell_type": "code",
      "metadata": {
        "id": "C8FUuEhdr6G2",
        "colab_type": "code",
        "colab": {
          "base_uri": "https://localhost:8080/",
          "height": 34
        },
        "outputId": "a006d7d9-e82b-41bb-8920-f8b85746149d"
      },
      "source": [
        "a = np.arange(4)\n",
        "print(a)"
      ],
      "execution_count": 20,
      "outputs": [
        {
          "output_type": "stream",
          "text": [
            "[0 1 2 3]\n"
          ],
          "name": "stdout"
        }
      ]
    },
    {
      "cell_type": "markdown",
      "metadata": {
        "id": "o8cNvtffr6G4",
        "colab_type": "text"
      },
      "source": [
        "[start : stop : step]\n",
        "- start - starting integer where the slicing of the object starts\n",
        "- stop - integer until which the slicing takes place. The slicing stops at index stop - 1.\n",
        "- step - integer value which determines the increment between each index for slicing"
      ]
    },
    {
      "cell_type": "code",
      "metadata": {
        "id": "SNuc8_sZr6G4",
        "colab_type": "code",
        "colab": {
          "base_uri": "https://localhost:8080/",
          "height": 34
        },
        "outputId": "07408b79-d02c-4471-e62a-fbf89737eccd"
      },
      "source": [
        "a[1:2:1]"
      ],
      "execution_count": 21,
      "outputs": [
        {
          "output_type": "execute_result",
          "data": {
            "text/plain": [
              "array([1])"
            ]
          },
          "metadata": {
            "tags": []
          },
          "execution_count": 21
        }
      ]
    },
    {
      "cell_type": "markdown",
      "metadata": {
        "id": "1l5Ur28ir6G6",
        "colab_type": "text"
      },
      "source": [
        "- default step size = 1"
      ]
    },
    {
      "cell_type": "code",
      "metadata": {
        "id": "wDDba4E5r6G7",
        "colab_type": "code",
        "colab": {
          "base_uri": "https://localhost:8080/",
          "height": 34
        },
        "outputId": "3f2d42c8-24a7-417c-80a6-4c50f4f1fcb7"
      },
      "source": [
        "a[1:2]"
      ],
      "execution_count": 22,
      "outputs": [
        {
          "output_type": "execute_result",
          "data": {
            "text/plain": [
              "array([1])"
            ]
          },
          "metadata": {
            "tags": []
          },
          "execution_count": 22
        }
      ]
    },
    {
      "cell_type": "code",
      "metadata": {
        "id": "h6CHDnpor6G-",
        "colab_type": "code",
        "colab": {
          "base_uri": "https://localhost:8080/",
          "height": 34
        },
        "outputId": "12711164-e21a-4e52-c9c3-4744a25cd5eb"
      },
      "source": [
        "a[0:4:3]"
      ],
      "execution_count": 23,
      "outputs": [
        {
          "output_type": "execute_result",
          "data": {
            "text/plain": [
              "array([0, 3])"
            ]
          },
          "metadata": {
            "tags": []
          },
          "execution_count": 23
        }
      ]
    },
    {
      "cell_type": "code",
      "metadata": {
        "id": "-SiWjJDor6HA",
        "colab_type": "code",
        "colab": {
          "base_uri": "https://localhost:8080/",
          "height": 34
        },
        "outputId": "b665814a-5412-4644-cdf3-c116eb2d243e"
      },
      "source": [
        "a[0::3]"
      ],
      "execution_count": 24,
      "outputs": [
        {
          "output_type": "execute_result",
          "data": {
            "text/plain": [
              "array([0, 3])"
            ]
          },
          "metadata": {
            "tags": []
          },
          "execution_count": 24
        }
      ]
    },
    {
      "cell_type": "code",
      "metadata": {
        "id": "2A6slokfr6HB",
        "colab_type": "code",
        "colab": {
          "base_uri": "https://localhost:8080/",
          "height": 34
        },
        "outputId": "1694a164-f98f-4c8e-da6d-2d4d7daa957b"
      },
      "source": [
        "a[:]"
      ],
      "execution_count": 25,
      "outputs": [
        {
          "output_type": "execute_result",
          "data": {
            "text/plain": [
              "array([0, 1, 2, 3])"
            ]
          },
          "metadata": {
            "tags": []
          },
          "execution_count": 25
        }
      ]
    },
    {
      "cell_type": "markdown",
      "metadata": {
        "id": "FyygpToWr6HD",
        "colab_type": "text"
      },
      "source": [
        "### 2.2 Negative numbers\n",
        "- Python supports using \"negative numbers\" to index into a string\n",
        "\n",
        "- -1 means the last char\n",
        "- -2 is the next to last\n",
        "- and so on."
      ]
    },
    {
      "cell_type": "code",
      "metadata": {
        "id": "YfReSMtQr6HD",
        "colab_type": "code",
        "colab": {
          "base_uri": "https://localhost:8080/",
          "height": 34
        },
        "outputId": "8e6d7360-447a-4ea1-d09b-662ae9c81120"
      },
      "source": [
        "a = np.arange(4)\n",
        "print(a)"
      ],
      "execution_count": 26,
      "outputs": [
        {
          "output_type": "stream",
          "text": [
            "[0 1 2 3]\n"
          ],
          "name": "stdout"
        }
      ]
    },
    {
      "cell_type": "code",
      "metadata": {
        "id": "KPfvCE7Dr6HF",
        "colab_type": "code",
        "colab": {
          "base_uri": "https://localhost:8080/",
          "height": 34
        },
        "outputId": "7c5dc66f-3716-47d4-be21-386723d5209b"
      },
      "source": [
        "a[-1]"
      ],
      "execution_count": 27,
      "outputs": [
        {
          "output_type": "execute_result",
          "data": {
            "text/plain": [
              "3"
            ]
          },
          "metadata": {
            "tags": []
          },
          "execution_count": 27
        }
      ]
    },
    {
      "cell_type": "code",
      "metadata": {
        "id": "spjuK2mSr6HH",
        "colab_type": "code",
        "colab": {
          "base_uri": "https://localhost:8080/",
          "height": 34
        },
        "outputId": "81f6db6a-bba1-4c33-a5a8-997b75c2b2f0"
      },
      "source": [
        "a[-1:]"
      ],
      "execution_count": 28,
      "outputs": [
        {
          "output_type": "execute_result",
          "data": {
            "text/plain": [
              "array([3])"
            ]
          },
          "metadata": {
            "tags": []
          },
          "execution_count": 28
        }
      ]
    },
    {
      "cell_type": "code",
      "metadata": {
        "id": "CL10kxOqr6HJ",
        "colab_type": "code",
        "colab": {
          "base_uri": "https://localhost:8080/",
          "height": 34
        },
        "outputId": "0643ea68-bf85-442d-972b-e31ce513be49"
      },
      "source": [
        "a[-3:]"
      ],
      "execution_count": 29,
      "outputs": [
        {
          "output_type": "execute_result",
          "data": {
            "text/plain": [
              "array([1, 2, 3])"
            ]
          },
          "metadata": {
            "tags": []
          },
          "execution_count": 29
        }
      ]
    },
    {
      "cell_type": "markdown",
      "metadata": {
        "id": "PGGBADyvr6HK",
        "colab_type": "text"
      },
      "source": [
        "- Let's see a 2-dimensional array."
      ]
    },
    {
      "cell_type": "code",
      "metadata": {
        "id": "Erg_BOa2r6HL",
        "colab_type": "code",
        "colab": {
          "base_uri": "https://localhost:8080/",
          "height": 68
        },
        "outputId": "56a55847-e0bc-47b3-a604-b6563d44d279"
      },
      "source": [
        "a = np.arange(12).reshape(3,4)\n",
        "print(a)"
      ],
      "execution_count": 30,
      "outputs": [
        {
          "output_type": "stream",
          "text": [
            "[[ 0  1  2  3]\n",
            " [ 4  5  6  7]\n",
            " [ 8  9 10 11]]\n"
          ],
          "name": "stdout"
        }
      ]
    },
    {
      "cell_type": "code",
      "metadata": {
        "id": "LcW93-gQr6HM",
        "colab_type": "code",
        "colab": {
          "base_uri": "https://localhost:8080/",
          "height": 68
        },
        "outputId": "a4144960-e83a-4336-ac01-6af653b2002a"
      },
      "source": [
        "a[:, -2:]"
      ],
      "execution_count": 31,
      "outputs": [
        {
          "output_type": "execute_result",
          "data": {
            "text/plain": [
              "array([[ 2,  3],\n",
              "       [ 6,  7],\n",
              "       [10, 11]])"
            ]
          },
          "metadata": {
            "tags": []
          },
          "execution_count": 31
        }
      ]
    },
    {
      "cell_type": "code",
      "metadata": {
        "id": "g3Pxdl5hr6HN",
        "colab_type": "code",
        "colab": {
          "base_uri": "https://localhost:8080/",
          "height": 68
        },
        "outputId": "7cac232a-b31c-49f1-b9b8-6a498ac474c5"
      },
      "source": [
        "a[:, 0:-1:2]"
      ],
      "execution_count": 32,
      "outputs": [
        {
          "output_type": "execute_result",
          "data": {
            "text/plain": [
              "array([[ 0,  2],\n",
              "       [ 4,  6],\n",
              "       [ 8, 10]])"
            ]
          },
          "metadata": {
            "tags": []
          },
          "execution_count": 32
        }
      ]
    },
    {
      "cell_type": "markdown",
      "metadata": {
        "id": "7xFom1KGr6HR",
        "colab_type": "text"
      },
      "source": [
        "- Let's see a 3-dimensional array."
      ]
    },
    {
      "cell_type": "code",
      "metadata": {
        "id": "JYqz-VFqr6HR",
        "colab_type": "code",
        "colab": {
          "base_uri": "https://localhost:8080/",
          "height": 136
        },
        "outputId": "89e1cc24-b222-4ff2-b2ea-bb32e625f122"
      },
      "source": [
        "a = np.arange(24).reshape((2, 3, 4))\n",
        "print(a)"
      ],
      "execution_count": 33,
      "outputs": [
        {
          "output_type": "stream",
          "text": [
            "[[[ 0  1  2  3]\n",
            "  [ 4  5  6  7]\n",
            "  [ 8  9 10 11]]\n",
            "\n",
            " [[12 13 14 15]\n",
            "  [16 17 18 19]\n",
            "  [20 21 22 23]]]\n"
          ],
          "name": "stdout"
        }
      ]
    },
    {
      "cell_type": "code",
      "metadata": {
        "id": "7b7ZeUeur6HT",
        "colab_type": "code",
        "colab": {
          "base_uri": "https://localhost:8080/",
          "height": 68
        },
        "outputId": "27f5c53d-a738-4cd4-f005-35595cc551ae"
      },
      "source": [
        "a[1:2, 0:3, 1:3]"
      ],
      "execution_count": 34,
      "outputs": [
        {
          "output_type": "execute_result",
          "data": {
            "text/plain": [
              "array([[[13, 14],\n",
              "        [17, 18],\n",
              "        [21, 22]]])"
            ]
          },
          "metadata": {
            "tags": []
          },
          "execution_count": 34
        }
      ]
    },
    {
      "cell_type": "code",
      "metadata": {
        "id": "FaeZumCxr6HU",
        "colab_type": "code",
        "colab": {
          "base_uri": "https://localhost:8080/",
          "height": 68
        },
        "outputId": "49ab5cb0-8569-456f-c36f-70628845c4c8"
      },
      "source": [
        "a[1, 0:3, 1:3]"
      ],
      "execution_count": 35,
      "outputs": [
        {
          "output_type": "execute_result",
          "data": {
            "text/plain": [
              "array([[13, 14],\n",
              "       [17, 18],\n",
              "       [21, 22]])"
            ]
          },
          "metadata": {
            "tags": []
          },
          "execution_count": 35
        }
      ]
    },
    {
      "cell_type": "code",
      "metadata": {
        "id": "DqFGErI8r6HW",
        "colab_type": "code",
        "colab": {
          "base_uri": "https://localhost:8080/",
          "height": 34
        },
        "outputId": "3bfb5080-4045-4497-8a81-76b290d6815d"
      },
      "source": [
        "a[0:2, -2, -1]"
      ],
      "execution_count": 36,
      "outputs": [
        {
          "output_type": "execute_result",
          "data": {
            "text/plain": [
              "array([ 7, 19])"
            ]
          },
          "metadata": {
            "tags": []
          },
          "execution_count": 36
        }
      ]
    },
    {
      "cell_type": "markdown",
      "metadata": {
        "id": "ONzgaJHrr6HY",
        "colab_type": "text"
      },
      "source": [
        "### 2.3 Change of dimensions"
      ]
    },
    {
      "cell_type": "code",
      "metadata": {
        "id": "-kCzyLtir6HY",
        "colab_type": "code",
        "colab": {
          "base_uri": "https://localhost:8080/",
          "height": 34
        },
        "outputId": "cb62902e-3439-4be5-f1a3-7bab1dd8cea1"
      },
      "source": [
        "a = np.arange(24).reshape((6,4))\n",
        "print(a.shape)"
      ],
      "execution_count": 37,
      "outputs": [
        {
          "output_type": "stream",
          "text": [
            "(6, 4)\n"
          ],
          "name": "stdout"
        }
      ]
    },
    {
      "cell_type": "code",
      "metadata": {
        "id": "lJjn2R_vr6Ha",
        "colab_type": "code",
        "colab": {
          "base_uri": "https://localhost:8080/",
          "height": 153
        },
        "outputId": "b13d5c87-dfda-475e-b203-a1258b96ad2f"
      },
      "source": [
        "print('----reshape----')\n",
        "print(a.reshape((1,6,4)).shape)\n",
        "print(a.reshape((6,1,4)).shape)\n",
        "print(a.reshape((6,4,1)).shape)\n",
        "\n",
        "print('----expand_dims----')\n",
        "print(np.expand_dims(a,axis=0).shape)\n",
        "print(np.expand_dims(a,axis=1).shape)\n",
        "print(np.expand_dims(a,axis=2).shape)"
      ],
      "execution_count": 38,
      "outputs": [
        {
          "output_type": "stream",
          "text": [
            "----reshape----\n",
            "(1, 6, 4)\n",
            "(6, 1, 4)\n",
            "(6, 4, 1)\n",
            "----expand_dims----\n",
            "(1, 6, 4)\n",
            "(6, 1, 4)\n",
            "(6, 4, 1)\n"
          ],
          "name": "stdout"
        }
      ]
    },
    {
      "cell_type": "markdown",
      "metadata": {
        "id": "y1Ve4DYYr6Hc",
        "colab_type": "text"
      },
      "source": [
        "### 2.4 Modify values\n",
        "[Python tutor link](http://www.pythontutor.com/) is useful to visually understand how Python works."
      ]
    },
    {
      "cell_type": "markdown",
      "metadata": {
        "id": "7TUZZ7KEr6Hd",
        "colab_type": "text"
      },
      "source": [
        "#### 2.4.1 List\n",
        "##### 2.4.1.1 m = l"
      ]
    },
    {
      "cell_type": "code",
      "metadata": {
        "id": "rZq16MF8r6Hd",
        "colab_type": "code",
        "colab": {}
      },
      "source": [
        "l = list(range(5))"
      ],
      "execution_count": 39,
      "outputs": []
    },
    {
      "cell_type": "code",
      "metadata": {
        "id": "DSTPHSrZr6Hf",
        "colab_type": "code",
        "colab": {
          "base_uri": "https://localhost:8080/",
          "height": 68
        },
        "outputId": "c49d7789-97ec-4f7c-eae9-9d840dd71c8b"
      },
      "source": [
        "m = l\n",
        "print('same object? ', m is l) #checks whether m and l refer to \"the same object\"\n",
        "print('m: ', m)\n",
        "print('l: ', l)"
      ],
      "execution_count": 40,
      "outputs": [
        {
          "output_type": "stream",
          "text": [
            "same object?  True\n",
            "m:  [0, 1, 2, 3, 4]\n",
            "l:  [0, 1, 2, 3, 4]\n"
          ],
          "name": "stdout"
        }
      ]
    },
    {
      "cell_type": "code",
      "metadata": {
        "id": "UQ-sLPxvr6Hg",
        "colab_type": "code",
        "colab": {
          "base_uri": "https://localhost:8080/",
          "height": 51
        },
        "outputId": "f58963b9-abd3-447a-b51f-bac2887bae3d"
      },
      "source": [
        "m[0] = -1\n",
        "print('m: ', m)\n",
        "print('l: ', l)"
      ],
      "execution_count": 41,
      "outputs": [
        {
          "output_type": "stream",
          "text": [
            "m:  [-1, 1, 2, 3, 4]\n",
            "l:  [-1, 1, 2, 3, 4]\n"
          ],
          "name": "stdout"
        }
      ]
    },
    {
      "cell_type": "markdown",
      "metadata": {
        "id": "ekoV_cLrr6Hi",
        "colab_type": "text"
      },
      "source": [
        "##### 2.4.1.2 m = l[:]"
      ]
    },
    {
      "cell_type": "code",
      "metadata": {
        "id": "duw-Labur6Hj",
        "colab_type": "code",
        "colab": {
          "base_uri": "https://localhost:8080/",
          "height": 68
        },
        "outputId": "c7a4a08d-562e-4b46-e55d-6f2fc056d210"
      },
      "source": [
        "l = list(range(5))\n",
        "m = l[:]\n",
        "print('same object? ', m is l) #checks whether m and l refer to \"the same object\"\n",
        "print('m: ', m)\n",
        "print('l: ', l)"
      ],
      "execution_count": 42,
      "outputs": [
        {
          "output_type": "stream",
          "text": [
            "same object?  False\n",
            "m:  [0, 1, 2, 3, 4]\n",
            "l:  [0, 1, 2, 3, 4]\n"
          ],
          "name": "stdout"
        }
      ]
    },
    {
      "cell_type": "code",
      "metadata": {
        "id": "WTDO5q-Rr6Hk",
        "colab_type": "code",
        "colab": {
          "base_uri": "https://localhost:8080/",
          "height": 51
        },
        "outputId": "9323807a-893b-4a57-e876-357efa635da9"
      },
      "source": [
        "m[0] = -1\n",
        "print('m: ', m)\n",
        "print('l: ', l)"
      ],
      "execution_count": 43,
      "outputs": [
        {
          "output_type": "stream",
          "text": [
            "m:  [-1, 1, 2, 3, 4]\n",
            "l:  [0, 1, 2, 3, 4]\n"
          ],
          "name": "stdout"
        }
      ]
    },
    {
      "cell_type": "markdown",
      "metadata": {
        "id": "lrLFMW_vr6Hm",
        "colab_type": "text"
      },
      "source": [
        "##### 2.4.1.3 m = list(l)"
      ]
    },
    {
      "cell_type": "code",
      "metadata": {
        "id": "GpYroui-r6Hm",
        "colab_type": "code",
        "colab": {
          "base_uri": "https://localhost:8080/",
          "height": 68
        },
        "outputId": "820d9d49-726a-48e3-dd27-8f665a2b88d5"
      },
      "source": [
        "l = list(range(5))\n",
        "m = list(l)\n",
        "print('same object? ', m is l) #checks whether m and l refer to \"the same object\"\n",
        "print('m: ', m)\n",
        "print('l: ', l)"
      ],
      "execution_count": 44,
      "outputs": [
        {
          "output_type": "stream",
          "text": [
            "same object?  False\n",
            "m:  [0, 1, 2, 3, 4]\n",
            "l:  [0, 1, 2, 3, 4]\n"
          ],
          "name": "stdout"
        }
      ]
    },
    {
      "cell_type": "code",
      "metadata": {
        "id": "XeWOUwzOr6Ho",
        "colab_type": "code",
        "colab": {
          "base_uri": "https://localhost:8080/",
          "height": 51
        },
        "outputId": "3affec68-bab3-43c6-b0ea-cdbad628d548"
      },
      "source": [
        "m[0] = -1\n",
        "print('m: ', m)\n",
        "print('l: ', l)"
      ],
      "execution_count": 45,
      "outputs": [
        {
          "output_type": "stream",
          "text": [
            "m:  [-1, 1, 2, 3, 4]\n",
            "l:  [0, 1, 2, 3, 4]\n"
          ],
          "name": "stdout"
        }
      ]
    },
    {
      "cell_type": "markdown",
      "metadata": {
        "id": "7i9fYvvBr6Hp",
        "colab_type": "text"
      },
      "source": [
        "#### 2.3.2 Numpy array"
      ]
    },
    {
      "cell_type": "code",
      "metadata": {
        "scrolled": true,
        "id": "09rbwoZ0r6Hq",
        "colab_type": "code",
        "colab": {}
      },
      "source": [
        "import numpy as np\n",
        "a = np.arange(5)"
      ],
      "execution_count": 46,
      "outputs": []
    },
    {
      "cell_type": "markdown",
      "metadata": {
        "id": "_gaMz9BWr6Hr",
        "colab_type": "text"
      },
      "source": [
        "##### 2.3.2.1 b = a"
      ]
    },
    {
      "cell_type": "code",
      "metadata": {
        "id": "h3Y-q9a0r6Hs",
        "colab_type": "code",
        "colab": {
          "base_uri": "https://localhost:8080/",
          "height": 68
        },
        "outputId": "0ab8d861-ebed-47cc-953e-8f07efb0cf89"
      },
      "source": [
        "b = a\n",
        "print('same object? ', a is b)\n",
        "print('a: ', a)\n",
        "print('b: ', b)"
      ],
      "execution_count": 47,
      "outputs": [
        {
          "output_type": "stream",
          "text": [
            "same object?  True\n",
            "a:  [0 1 2 3 4]\n",
            "b:  [0 1 2 3 4]\n"
          ],
          "name": "stdout"
        }
      ]
    },
    {
      "cell_type": "code",
      "metadata": {
        "id": "lydik4nAr6Hu",
        "colab_type": "code",
        "colab": {
          "base_uri": "https://localhost:8080/",
          "height": 51
        },
        "outputId": "8c4b03e6-2f56-4ebe-8fa5-13af2373ed65"
      },
      "source": [
        "b[1] = -1\n",
        "print('a: ', a)\n",
        "print('b: ', b)"
      ],
      "execution_count": 48,
      "outputs": [
        {
          "output_type": "stream",
          "text": [
            "a:  [ 0 -1  2  3  4]\n",
            "b:  [ 0 -1  2  3  4]\n"
          ],
          "name": "stdout"
        }
      ]
    },
    {
      "cell_type": "markdown",
      "metadata": {
        "id": "EM5ANkUCr6Hw",
        "colab_type": "text"
      },
      "source": [
        "##### 2.3.2.2 b = a[:]"
      ]
    },
    {
      "cell_type": "code",
      "metadata": {
        "id": "RpvQnaWhr6Hw",
        "colab_type": "code",
        "colab": {
          "base_uri": "https://localhost:8080/",
          "height": 102
        },
        "outputId": "5f0ab157-ea06-4f33-9277-4571b425ded1"
      },
      "source": [
        "a = np.arange(4).reshape((2,2))\n",
        "b = a[:]\n",
        "print('same object? ', a is b)\n",
        "print('a: ', a)\n",
        "print('b: ', b)"
      ],
      "execution_count": 49,
      "outputs": [
        {
          "output_type": "stream",
          "text": [
            "same object?  False\n",
            "a:  [[0 1]\n",
            " [2 3]]\n",
            "b:  [[0 1]\n",
            " [2 3]]\n"
          ],
          "name": "stdout"
        }
      ]
    },
    {
      "cell_type": "code",
      "metadata": {
        "id": "02hYSkkmr6Hy",
        "colab_type": "code",
        "colab": {
          "base_uri": "https://localhost:8080/",
          "height": 85
        },
        "outputId": "622d931b-f501-4a05-cf98-72e79c8d89bf"
      },
      "source": [
        "b[1] = -2\n",
        "print('a: ', a)\n",
        "print('b: ', b)"
      ],
      "execution_count": 50,
      "outputs": [
        {
          "output_type": "stream",
          "text": [
            "a:  [[ 0  1]\n",
            " [-2 -2]]\n",
            "b:  [[ 0  1]\n",
            " [-2 -2]]\n"
          ],
          "name": "stdout"
        }
      ]
    },
    {
      "cell_type": "markdown",
      "metadata": {
        "id": "OLQlKe9Xr6H0",
        "colab_type": "text"
      },
      "source": [
        "##### 2.3.2.3 b = np.array(a)"
      ]
    },
    {
      "cell_type": "code",
      "metadata": {
        "id": "c2pxhIFxr6H0",
        "colab_type": "code",
        "colab": {
          "base_uri": "https://localhost:8080/",
          "height": 68
        },
        "outputId": "1ed631c1-687a-4919-c899-f3f9e0d6736b"
      },
      "source": [
        "a = np.arange(5)\n",
        "b = np.array(a)\n",
        "print('same object? ', a is b)\n",
        "print('a: ', a)\n",
        "print('b: ', b)"
      ],
      "execution_count": 51,
      "outputs": [
        {
          "output_type": "stream",
          "text": [
            "same object?  False\n",
            "a:  [0 1 2 3 4]\n",
            "b:  [0 1 2 3 4]\n"
          ],
          "name": "stdout"
        }
      ]
    },
    {
      "cell_type": "code",
      "metadata": {
        "id": "4kN2ga3mr6H3",
        "colab_type": "code",
        "colab": {
          "base_uri": "https://localhost:8080/",
          "height": 51
        },
        "outputId": "25896fc9-2ae5-4f7c-c3a4-e35438943329"
      },
      "source": [
        "b[1] = -2\n",
        "print('a: ', a)\n",
        "print('b: ', b)"
      ],
      "execution_count": 52,
      "outputs": [
        {
          "output_type": "stream",
          "text": [
            "a:  [0 1 2 3 4]\n",
            "b:  [ 0 -2  2  3  4]\n"
          ],
          "name": "stdout"
        }
      ]
    },
    {
      "cell_type": "markdown",
      "metadata": {
        "id": "E87o69HCr6H4",
        "colab_type": "text"
      },
      "source": [
        "### 2.4 Advanced indexing\n",
        "- Indexing with boolean array\n",
        "- Indexing with integer list / array"
      ]
    },
    {
      "cell_type": "code",
      "metadata": {
        "id": "9JLh2vhbr6H4",
        "colab_type": "code",
        "colab": {
          "base_uri": "https://localhost:8080/",
          "height": 68
        },
        "outputId": "ee5c24be-5b87-4fc3-8877-0a3499885cfe"
      },
      "source": [
        "a = np.arange(12).reshape((3,4))\n",
        "print(a)"
      ],
      "execution_count": 53,
      "outputs": [
        {
          "output_type": "stream",
          "text": [
            "[[ 0  1  2  3]\n",
            " [ 4  5  6  7]\n",
            " [ 8  9 10 11]]\n"
          ],
          "name": "stdout"
        }
      ]
    },
    {
      "cell_type": "code",
      "metadata": {
        "id": "IT9_HKjLr6H6",
        "colab_type": "code",
        "colab": {
          "base_uri": "https://localhost:8080/",
          "height": 68
        },
        "outputId": "ddd72a8d-4526-4176-d459-204c4d14b090"
      },
      "source": [
        "idx = (a % 2 == 0)\n",
        "print(idx)"
      ],
      "execution_count": 54,
      "outputs": [
        {
          "output_type": "stream",
          "text": [
            "[[ True False  True False]\n",
            " [ True False  True False]\n",
            " [ True False  True False]]\n"
          ],
          "name": "stdout"
        }
      ]
    },
    {
      "cell_type": "code",
      "metadata": {
        "id": "vdVXeuqfr6H7",
        "colab_type": "code",
        "colab": {
          "base_uri": "https://localhost:8080/",
          "height": 68
        },
        "outputId": "42fdb1c9-9b3a-46f9-8a22-f842803eae83"
      },
      "source": [
        "a[idx] = 5\n",
        "print(a)"
      ],
      "execution_count": 55,
      "outputs": [
        {
          "output_type": "stream",
          "text": [
            "[[ 5  1  5  3]\n",
            " [ 5  5  5  7]\n",
            " [ 5  9  5 11]]\n"
          ],
          "name": "stdout"
        }
      ]
    },
    {
      "cell_type": "code",
      "metadata": {
        "id": "CAZCkXJKr6H-",
        "colab_type": "code",
        "colab": {
          "base_uri": "https://localhost:8080/",
          "height": 232
        },
        "outputId": "b3c49423-3b9e-41e9-ae89-5544b41e2bf7"
      },
      "source": [
        "a = np.arange(12).reshape((3,4))\n",
        "idx = (a[0]<3)\n",
        "print(idx)\n",
        "a[idx] # Error!"
      ],
      "execution_count": 56,
      "outputs": [
        {
          "output_type": "stream",
          "text": [
            "[ True  True  True False]\n"
          ],
          "name": "stdout"
        },
        {
          "output_type": "error",
          "ename": "IndexError",
          "evalue": "ignored",
          "traceback": [
            "\u001b[0;31m---------------------------------------------------------------------------\u001b[0m",
            "\u001b[0;31mIndexError\u001b[0m                                Traceback (most recent call last)",
            "\u001b[0;32m<ipython-input-56-19af650d8de1>\u001b[0m in \u001b[0;36m<module>\u001b[0;34m()\u001b[0m\n\u001b[1;32m      2\u001b[0m \u001b[0midx\u001b[0m \u001b[0;34m=\u001b[0m \u001b[0;34m(\u001b[0m\u001b[0ma\u001b[0m\u001b[0;34m[\u001b[0m\u001b[0;36m0\u001b[0m\u001b[0;34m]\u001b[0m\u001b[0;34m<\u001b[0m\u001b[0;36m3\u001b[0m\u001b[0;34m)\u001b[0m\u001b[0;34m\u001b[0m\u001b[0;34m\u001b[0m\u001b[0m\n\u001b[1;32m      3\u001b[0m \u001b[0mprint\u001b[0m\u001b[0;34m(\u001b[0m\u001b[0midx\u001b[0m\u001b[0;34m)\u001b[0m\u001b[0;34m\u001b[0m\u001b[0;34m\u001b[0m\u001b[0m\n\u001b[0;32m----> 4\u001b[0;31m \u001b[0ma\u001b[0m\u001b[0;34m[\u001b[0m\u001b[0midx\u001b[0m\u001b[0;34m]\u001b[0m \u001b[0;31m# Error!\u001b[0m\u001b[0;34m\u001b[0m\u001b[0;34m\u001b[0m\u001b[0m\n\u001b[0m",
            "\u001b[0;31mIndexError\u001b[0m: boolean index did not match indexed array along dimension 0; dimension is 3 but corresponding boolean dimension is 4"
          ]
        }
      ]
    },
    {
      "cell_type": "code",
      "metadata": {
        "id": "oxTgn5vHr6H_",
        "colab_type": "code",
        "colab": {
          "base_uri": "https://localhost:8080/",
          "height": 136
        },
        "outputId": "f2ec0ed8-1070-4cdf-ad3d-70a70c0dfd31"
      },
      "source": [
        "print(a)\n",
        "idx = (a[0]<3)\n",
        "print(idx)\n",
        "a[0, idx] = 100\n",
        "print(a)\n"
      ],
      "execution_count": 57,
      "outputs": [
        {
          "output_type": "stream",
          "text": [
            "[[ 0  1  2  3]\n",
            " [ 4  5  6  7]\n",
            " [ 8  9 10 11]]\n",
            "[ True  True  True False]\n",
            "[[100 100 100   3]\n",
            " [  4   5   6   7]\n",
            " [  8   9  10  11]]\n"
          ],
          "name": "stdout"
        }
      ]
    },
    {
      "cell_type": "code",
      "metadata": {
        "id": "2NkvR-sHr6IA",
        "colab_type": "code",
        "colab": {}
      },
      "source": [
        "a = np.arange(12).reshape((3,4))\n",
        "b = a[1, a[0]<3]  #   creates a copy of the data because idx is a boolean array\n",
        "b[0] = -10"
      ],
      "execution_count": 58,
      "outputs": []
    },
    {
      "cell_type": "markdown",
      "metadata": {
        "id": "zfB9QBryr6IC",
        "colab_type": "text"
      },
      "source": [
        "- Q. Is \"a\" the same object as \"b\"?"
      ]
    },
    {
      "cell_type": "code",
      "metadata": {
        "id": "Dre81hjvr6IC",
        "colab_type": "code",
        "colab": {
          "base_uri": "https://localhost:8080/",
          "height": 51
        },
        "outputId": "b70bf052-f244-453a-a7bf-b39e53b35341"
      },
      "source": [
        "print(b[0])\n",
        "print(a[1, a[0]<3][0])"
      ],
      "execution_count": 59,
      "outputs": [
        {
          "output_type": "stream",
          "text": [
            "-10\n",
            "4\n"
          ],
          "name": "stdout"
        }
      ]
    },
    {
      "cell_type": "markdown",
      "metadata": {
        "id": "mGqWvpQSr6ID",
        "colab_type": "text"
      },
      "source": [
        "- Indexing on a 2-dim array "
      ]
    },
    {
      "cell_type": "code",
      "metadata": {
        "id": "K_zx-znmr6IE",
        "colab_type": "code",
        "colab": {
          "base_uri": "https://localhost:8080/",
          "height": 68
        },
        "outputId": "f10bbbc3-d7c6-4fd7-aabd-6f95833acffa"
      },
      "source": [
        "a = np.arange(12).reshape((3,4))\n",
        "print(a)"
      ],
      "execution_count": 60,
      "outputs": [
        {
          "output_type": "stream",
          "text": [
            "[[ 0  1  2  3]\n",
            " [ 4  5  6  7]\n",
            " [ 8  9 10 11]]\n"
          ],
          "name": "stdout"
        }
      ]
    },
    {
      "cell_type": "markdown",
      "metadata": {
        "id": "kAJ_upnyr6IF",
        "colab_type": "text"
      },
      "source": [
        "-Q. How do we access to 1, 6, 11 in \"a\"?"
      ]
    },
    {
      "cell_type": "code",
      "metadata": {
        "id": "3t-VGxm-r6IF",
        "colab_type": "code",
        "colab": {
          "base_uri": "https://localhost:8080/",
          "height": 164
        },
        "outputId": "fcfb74ef-4216-46c7-854e-110403026fbe"
      },
      "source": [
        "a[[0,1], [1, 2], [2, 3]]"
      ],
      "execution_count": 61,
      "outputs": [
        {
          "output_type": "error",
          "ename": "IndexError",
          "evalue": "ignored",
          "traceback": [
            "\u001b[0;31m---------------------------------------------------------------------------\u001b[0m",
            "\u001b[0;31mIndexError\u001b[0m                                Traceback (most recent call last)",
            "\u001b[0;32m<ipython-input-61-927a54778f82>\u001b[0m in \u001b[0;36m<module>\u001b[0;34m()\u001b[0m\n\u001b[0;32m----> 1\u001b[0;31m \u001b[0ma\u001b[0m\u001b[0;34m[\u001b[0m\u001b[0;34m[\u001b[0m\u001b[0;36m0\u001b[0m\u001b[0;34m,\u001b[0m\u001b[0;36m1\u001b[0m\u001b[0;34m]\u001b[0m\u001b[0;34m,\u001b[0m \u001b[0;34m[\u001b[0m\u001b[0;36m1\u001b[0m\u001b[0;34m,\u001b[0m \u001b[0;36m2\u001b[0m\u001b[0;34m]\u001b[0m\u001b[0;34m,\u001b[0m \u001b[0;34m[\u001b[0m\u001b[0;36m2\u001b[0m\u001b[0;34m,\u001b[0m \u001b[0;36m3\u001b[0m\u001b[0;34m]\u001b[0m\u001b[0;34m]\u001b[0m\u001b[0;34m\u001b[0m\u001b[0;34m\u001b[0m\u001b[0m\n\u001b[0m",
            "\u001b[0;31mIndexError\u001b[0m: too many indices for array"
          ]
        }
      ]
    },
    {
      "cell_type": "code",
      "metadata": {
        "id": "4adZ8rUgr6IG",
        "colab_type": "code",
        "colab": {
          "base_uri": "https://localhost:8080/",
          "height": 34
        },
        "outputId": "8f00ad3b-a883-46df-f298-d412c9486798"
      },
      "source": [
        "a[[0, 1, 2], [1, 2, 3]]"
      ],
      "execution_count": 62,
      "outputs": [
        {
          "output_type": "execute_result",
          "data": {
            "text/plain": [
              "array([ 1,  6, 11])"
            ]
          },
          "metadata": {
            "tags": []
          },
          "execution_count": 62
        }
      ]
    },
    {
      "cell_type": "code",
      "metadata": {
        "scrolled": true,
        "id": "yDaZaGdNr6IH",
        "colab_type": "code",
        "colab": {
          "base_uri": "https://localhost:8080/",
          "height": 153
        },
        "outputId": "1c1881a5-a75f-42a0-eb83-673afa101560"
      },
      "source": [
        "a = np.arange(24).reshape((2, 3, 4))\n",
        "print(a)\n",
        "print(a[[0, 1], [1, 1], [1, 1]])"
      ],
      "execution_count": 63,
      "outputs": [
        {
          "output_type": "stream",
          "text": [
            "[[[ 0  1  2  3]\n",
            "  [ 4  5  6  7]\n",
            "  [ 8  9 10 11]]\n",
            "\n",
            " [[12 13 14 15]\n",
            "  [16 17 18 19]\n",
            "  [20 21 22 23]]]\n",
            "[ 5 17]\n"
          ],
          "name": "stdout"
        }
      ]
    },
    {
      "cell_type": "code",
      "metadata": {
        "id": "VQfBMee0r6II",
        "colab_type": "code",
        "colab": {
          "base_uri": "https://localhost:8080/",
          "height": 34
        },
        "outputId": "748dbb3f-1bae-4a11-b427-da237531c25f"
      },
      "source": [
        "a = np.arange(5)\n",
        "print(a)"
      ],
      "execution_count": 64,
      "outputs": [
        {
          "output_type": "stream",
          "text": [
            "[0 1 2 3 4]\n"
          ],
          "name": "stdout"
        }
      ]
    },
    {
      "cell_type": "code",
      "metadata": {
        "id": "2TVqCIO9r6IL",
        "colab_type": "code",
        "colab": {
          "base_uri": "https://localhost:8080/",
          "height": 34
        },
        "outputId": "c317ccfb-f708-4dca-f797-da5256a661a8"
      },
      "source": [
        "ind = [2, 3, 1, 4, 0]\n",
        "print(a[ind])"
      ],
      "execution_count": 65,
      "outputs": [
        {
          "output_type": "stream",
          "text": [
            "[2 3 1 4 0]\n"
          ],
          "name": "stdout"
        }
      ]
    },
    {
      "cell_type": "markdown",
      "metadata": {
        "id": "2J4ACacfEl-p",
        "colab_type": "text"
      },
      "source": [
        "Suppose we want to change a set of common indices for all the rows, say the 1st and 3rd indices of the last dimension."
      ]
    },
    {
      "cell_type": "code",
      "metadata": {
        "id": "e_L9pOlCEsz3",
        "colab_type": "code",
        "colab": {
          "base_uri": "https://localhost:8080/",
          "height": 255
        },
        "outputId": "c341caeb-08ba-4386-9ac4-4cceb52e2bcc"
      },
      "source": [
        "\n",
        "a = np.arange(24).reshape((2, 3, 4))\n",
        "print(a)\n",
        "a[:, : ,[0, 2]] = 10\n",
        "print(a)\n"
      ],
      "execution_count": 66,
      "outputs": [
        {
          "output_type": "stream",
          "text": [
            "[[[ 0  1  2  3]\n",
            "  [ 4  5  6  7]\n",
            "  [ 8  9 10 11]]\n",
            "\n",
            " [[12 13 14 15]\n",
            "  [16 17 18 19]\n",
            "  [20 21 22 23]]]\n",
            "[[[10  1 10  3]\n",
            "  [10  5 10  7]\n",
            "  [10  9 10 11]]\n",
            "\n",
            " [[10 13 10 15]\n",
            "  [10 17 10 19]\n",
            "  [10 21 10 23]]]\n"
          ],
          "name": "stdout"
        }
      ]
    },
    {
      "cell_type": "code",
      "metadata": {
        "id": "ZAsLqeIRFobh",
        "colab_type": "code",
        "colab": {
          "base_uri": "https://localhost:8080/",
          "height": 255
        },
        "outputId": "4127c0c8-00b0-4faf-a0c5-e502e0db9021"
      },
      "source": [
        "from scipy.spatial import distance\n",
        "X = np.random.random((5000,3072))\n",
        "Y = np.random.random((500,3072))\n",
        "l2_dist = distance.cdist(X, Y, 'euclidean')\n",
        "print(l2_dist.shape)\n",
        "print(l2_dist)"
      ],
      "execution_count": 67,
      "outputs": [
        {
          "output_type": "stream",
          "text": [
            "(5000, 500)\n",
            "[[22.72436978 22.30081732 22.30715942 ... 22.31939087 22.67177925\n",
            "  22.67352269]\n",
            " [22.90378361 22.93328359 22.58244282 ... 22.5842375  23.06583346\n",
            "  23.18932263]\n",
            " [22.4958348  22.57943911 22.81426585 ... 22.76861267 22.71157807\n",
            "  22.86834135]\n",
            " ...\n",
            " [22.57269523 22.95367895 22.68607128 ... 22.75038732 23.25562061\n",
            "  22.97985852]\n",
            " [22.31498996 21.95591962 22.52900591 ... 22.14882094 22.17903123\n",
            "  22.43995973]\n",
            " [22.6627813  22.43508396 22.80824521 ... 22.49360153 22.95726492\n",
            "  22.38657259]]\n"
          ],
          "name": "stdout"
        }
      ]
    },
    {
      "cell_type": "markdown",
      "metadata": {
        "id": "EhQtglMCr6IM",
        "colab_type": "text"
      },
      "source": [
        "## 3. Broadcasting\n",
        "### 3.1 The basic idea\n",
        "- Universal functions: functions that apply elementwise on arrays  \n",
        "    Examples: np.add, np.power, np.greater, np.log, np.absolute  \n",
        "- Universal functions that takes two input arrays:  \n",
        "    - Simplest case: two input arrays have same shape  \n",
        "    - Two inputs with different shapes? Broadcasting!  \n",
        "        Replicate values to make their shapes match  \n",
        "        Can avoid making redundant copies\n",
        "        \n",
        "**A simple example:**"
      ]
    },
    {
      "cell_type": "code",
      "metadata": {
        "id": "cDEd0tYFr6IM",
        "colab_type": "code",
        "colab": {
          "base_uri": "https://localhost:8080/",
          "height": 408
        },
        "outputId": "efbd15f0-909f-4c0d-c353-4fb2d8c95d6c"
      },
      "source": [
        "a = np.arange(12).reshape((3,4))\n",
        "b = 1.1\n",
        "c = np.arange(4)\n",
        "d = np.arange(3)\n",
        "\n",
        "print(\"a =\",a)\n",
        "print('----------------')\n",
        "print(\"b =\",b)\n",
        "print('----------------')\n",
        "print(\"c =\",c)\n",
        "print('----------------')\n",
        "print(\"d =\",d)\n",
        "print('----------------')\n",
        "print(\"a*b =\\n\",a * b)\n",
        "print('----------------')\n",
        "print(\"(a * b) + c =\\n\",(a * b) + c)\n",
        "# print('----------------')\n",
        "print(\"(a * b) + c + d=\\n\",(a * b) + c + d[:,np.newaxis])"
      ],
      "execution_count": 68,
      "outputs": [
        {
          "output_type": "stream",
          "text": [
            "a = [[ 0  1  2  3]\n",
            " [ 4  5  6  7]\n",
            " [ 8  9 10 11]]\n",
            "----------------\n",
            "b = 1.1\n",
            "----------------\n",
            "c = [0 1 2 3]\n",
            "----------------\n",
            "d = [0 1 2]\n",
            "----------------\n",
            "a*b =\n",
            " [[ 0.   1.1  2.2  3.3]\n",
            " [ 4.4  5.5  6.6  7.7]\n",
            " [ 8.8  9.9 11.  12.1]]\n",
            "----------------\n",
            "(a * b) + c =\n",
            " [[ 0.   2.1  4.2  6.3]\n",
            " [ 4.4  6.5  8.6 10.7]\n",
            " [ 8.8 10.9 13.  15.1]]\n",
            "(a * b) + c + d=\n",
            " [[ 0.   2.1  4.2  6.3]\n",
            " [ 5.4  7.5  9.6 11.7]\n",
            " [10.8 12.9 15.  17.1]]\n"
          ],
          "name": "stdout"
        }
      ]
    },
    {
      "cell_type": "markdown",
      "metadata": {
        "id": "W2MPbzzer6IN",
        "colab_type": "text"
      },
      "source": [
        "Q. How can we add two inputs with different shapes?"
      ]
    },
    {
      "cell_type": "code",
      "metadata": {
        "id": "7DgKn56dr6IO",
        "colab_type": "code",
        "colab": {
          "base_uri": "https://localhost:8080/",
          "height": 68
        },
        "outputId": "de1cf573-6b52-4318-aec8-321785fed621"
      },
      "source": [
        "b1 = np.arange(3).reshape((3,1))\n",
        "print(b1)"
      ],
      "execution_count": 69,
      "outputs": [
        {
          "output_type": "stream",
          "text": [
            "[[0]\n",
            " [1]\n",
            " [2]]\n"
          ],
          "name": "stdout"
        }
      ]
    },
    {
      "cell_type": "code",
      "metadata": {
        "id": "Sl5ByTl_r6IP",
        "colab_type": "code",
        "colab": {
          "base_uri": "https://localhost:8080/",
          "height": 34
        },
        "outputId": "68e8ce69-c53a-4fe2-e972-aa013daa35bf"
      },
      "source": [
        "b2 = np.arange(5).reshape((5,1)).T\n",
        "print(b2)"
      ],
      "execution_count": 70,
      "outputs": [
        {
          "output_type": "stream",
          "text": [
            "[[0 1 2 3 4]]\n"
          ],
          "name": "stdout"
        }
      ]
    },
    {
      "cell_type": "code",
      "metadata": {
        "id": "bNzNWz0er6IQ",
        "colab_type": "code",
        "colab": {
          "base_uri": "https://localhost:8080/",
          "height": 68
        },
        "outputId": "48c9770d-07b2-4c43-9028-efc45de864be"
      },
      "source": [
        "b1_tile = np.tile(b1, (1,5))\n",
        "print(b1_tile)"
      ],
      "execution_count": 71,
      "outputs": [
        {
          "output_type": "stream",
          "text": [
            "[[0 0 0 0 0]\n",
            " [1 1 1 1 1]\n",
            " [2 2 2 2 2]]\n"
          ],
          "name": "stdout"
        }
      ]
    },
    {
      "cell_type": "code",
      "metadata": {
        "id": "Dsldxs_okTmw",
        "colab_type": "code",
        "colab": {}
      },
      "source": [
        ""
      ],
      "execution_count": 71,
      "outputs": []
    },
    {
      "cell_type": "code",
      "metadata": {
        "id": "COxziO-Wr6IR",
        "colab_type": "code",
        "colab": {
          "base_uri": "https://localhost:8080/",
          "height": 68
        },
        "outputId": "8433d382-c6c9-434c-892a-c43f769a47d9"
      },
      "source": [
        "b2_tile = np.tile(b2, (3,1))\n",
        "print(b2_tile)"
      ],
      "execution_count": 72,
      "outputs": [
        {
          "output_type": "stream",
          "text": [
            "[[0 1 2 3 4]\n",
            " [0 1 2 3 4]\n",
            " [0 1 2 3 4]]\n"
          ],
          "name": "stdout"
        }
      ]
    },
    {
      "cell_type": "code",
      "metadata": {
        "id": "Jp-AACaWr6IS",
        "colab_type": "code",
        "colab": {
          "base_uri": "https://localhost:8080/",
          "height": 68
        },
        "outputId": "6de91fe4-f19a-462f-8071-734aeb91d8f4"
      },
      "source": [
        "print(b1_tile+b2_tile)"
      ],
      "execution_count": 73,
      "outputs": [
        {
          "output_type": "stream",
          "text": [
            "[[0 1 2 3 4]\n",
            " [1 2 3 4 5]\n",
            " [2 3 4 5 6]]\n"
          ],
          "name": "stdout"
        }
      ]
    },
    {
      "cell_type": "markdown",
      "metadata": {
        "id": "QGPDo52sr6IT",
        "colab_type": "text"
      },
      "source": [
        "Q. Are there any simpler way?"
      ]
    },
    {
      "cell_type": "code",
      "metadata": {
        "id": "2WRG3OcTr6IU",
        "colab_type": "code",
        "colab": {
          "base_uri": "https://localhost:8080/",
          "height": 68
        },
        "outputId": "e1f3cbac-6a2f-4c23-e697-3a5b06411c3c"
      },
      "source": [
        "print(b1)"
      ],
      "execution_count": 74,
      "outputs": [
        {
          "output_type": "stream",
          "text": [
            "[[0]\n",
            " [1]\n",
            " [2]]\n"
          ],
          "name": "stdout"
        }
      ]
    },
    {
      "cell_type": "code",
      "metadata": {
        "id": "mBGJ0JPqr6IV",
        "colab_type": "code",
        "colab": {
          "base_uri": "https://localhost:8080/",
          "height": 34
        },
        "outputId": "c3aa9968-4a57-4576-d031-96432a74daac"
      },
      "source": [
        "print(b2)"
      ],
      "execution_count": 75,
      "outputs": [
        {
          "output_type": "stream",
          "text": [
            "[[0 1 2 3 4]]\n"
          ],
          "name": "stdout"
        }
      ]
    },
    {
      "cell_type": "code",
      "metadata": {
        "id": "KlOM3F95r6IX",
        "colab_type": "code",
        "colab": {
          "base_uri": "https://localhost:8080/",
          "height": 68
        },
        "outputId": "b731879e-4cbb-480f-97b4-96e8b56b4e4e"
      },
      "source": [
        "print(b1+b2)"
      ],
      "execution_count": 76,
      "outputs": [
        {
          "output_type": "stream",
          "text": [
            "[[0 1 2 3 4]\n",
            " [1 2 3 4 5]\n",
            " [2 3 4 5 6]]\n"
          ],
          "name": "stdout"
        }
      ]
    },
    {
      "cell_type": "markdown",
      "metadata": {
        "id": "28btlmrur6IY",
        "colab_type": "text"
      },
      "source": [
        "### 3.2 The broadcasting rule\n",
        "**Example:**  "
      ]
    },
    {
      "cell_type": "code",
      "metadata": {
        "id": "8r64MRCJr6IY",
        "colab_type": "code",
        "colab": {
          "base_uri": "https://localhost:8080/",
          "height": 51
        },
        "outputId": "bd8b1f29-b86f-490e-ec87-41d41de271ae"
      },
      "source": [
        "A = np.arange(2*4*3).reshape((2,4,1,3))\n",
        "B = np.arange(5).reshape((5,1))\n",
        "print('A.shape: ', A.shape)\n",
        "print('B.shape: ', B.shape)"
      ],
      "execution_count": 77,
      "outputs": [
        {
          "output_type": "stream",
          "text": [
            "A.shape:  (2, 4, 1, 3)\n",
            "B.shape:  (5, 1)\n"
          ],
          "name": "stdout"
        }
      ]
    },
    {
      "cell_type": "code",
      "metadata": {
        "id": "WUZEywYmr6Ib",
        "colab_type": "code",
        "colab": {}
      },
      "source": [
        "C = A + B"
      ],
      "execution_count": 78,
      "outputs": []
    },
    {
      "cell_type": "markdown",
      "metadata": {
        "id": "71blmfmfr6Ic",
        "colab_type": "text"
      },
      "source": [
        "Q. What is the shape of C?"
      ]
    },
    {
      "cell_type": "code",
      "metadata": {
        "id": "zS9vdKIWr6Ic",
        "colab_type": "code",
        "colab": {
          "base_uri": "https://localhost:8080/",
          "height": 34
        },
        "outputId": "9baa7d50-3da7-4e0e-9e0d-6fe683fc11a1"
      },
      "source": [
        "print('C.shape: ', C.shape)"
      ],
      "execution_count": 79,
      "outputs": [
        {
          "output_type": "stream",
          "text": [
            "C.shape:  (2, 4, 5, 3)\n"
          ],
          "name": "stdout"
        }
      ]
    },
    {
      "cell_type": "markdown",
      "metadata": {
        "id": "sh9LdJkXr6Id",
        "colab_type": "text"
      },
      "source": [
        "\n",
        "1. If one array has smaller dimension, fill 1's at the beginning of its shape. Start from the last dimension and work forward\n",
        "    - A.shape: (2, 4, 1, 3)\n",
        "    - B.shape: (**1**, **1**, 5, 1)\n",
        "- If one array has length 1 for the current dimension, replicate the values in that dimension\n",
        "    - A.shape: (2, 4, **5**, 3)\n",
        "    - B.shape: (**2**, **4**, 5, **3**)\n",
        "- If either array has greater than 1 for a dimension, and two arrays don't match: report an error"
      ]
    },
    {
      "cell_type": "code",
      "metadata": {
        "id": "rWwbfM4Wr6Ie",
        "colab_type": "code",
        "colab": {
          "base_uri": "https://localhost:8080/",
          "height": 51
        },
        "outputId": "cb220dea-020d-4aab-abc3-bc45231ebdb6"
      },
      "source": [
        "A = np.arange(2*4*3).reshape((2,4,1,3))\n",
        "B = np.arange(10).reshape((5,2))\n",
        "print('A.shape: ', A.shape)\n",
        "print('B.shape: ', B.shape)"
      ],
      "execution_count": 80,
      "outputs": [
        {
          "output_type": "stream",
          "text": [
            "A.shape:  (2, 4, 1, 3)\n",
            "B.shape:  (5, 2)\n"
          ],
          "name": "stdout"
        }
      ]
    },
    {
      "cell_type": "markdown",
      "metadata": {
        "id": "sAtfaZzvr6If",
        "colab_type": "text"
      },
      "source": [
        "Q. What will happen to the following code?"
      ]
    },
    {
      "cell_type": "code",
      "metadata": {
        "id": "eujzmFWjr6If",
        "colab_type": "code",
        "colab": {
          "base_uri": "https://localhost:8080/",
          "height": 164
        },
        "outputId": "47e8cc3b-6206-4ea3-e97a-fc6219db9cfd"
      },
      "source": [
        "C = A + B"
      ],
      "execution_count": 81,
      "outputs": [
        {
          "output_type": "error",
          "ename": "ValueError",
          "evalue": "ignored",
          "traceback": [
            "\u001b[0;31m---------------------------------------------------------------------------\u001b[0m",
            "\u001b[0;31mValueError\u001b[0m                                Traceback (most recent call last)",
            "\u001b[0;32m<ipython-input-81-49c8b7dac430>\u001b[0m in \u001b[0;36m<module>\u001b[0;34m()\u001b[0m\n\u001b[0;32m----> 1\u001b[0;31m \u001b[0mC\u001b[0m \u001b[0;34m=\u001b[0m \u001b[0mA\u001b[0m \u001b[0;34m+\u001b[0m \u001b[0mB\u001b[0m\u001b[0;34m\u001b[0m\u001b[0;34m\u001b[0m\u001b[0m\n\u001b[0m",
            "\u001b[0;31mValueError\u001b[0m: operands could not be broadcast together with shapes (2,4,1,3) (5,2) "
          ]
        }
      ]
    },
    {
      "cell_type": "code",
      "metadata": {
        "id": "RklQofchk-y_",
        "colab_type": "code",
        "colab": {}
      },
      "source": [
        ""
      ],
      "execution_count": null,
      "outputs": []
    }
  ]
}